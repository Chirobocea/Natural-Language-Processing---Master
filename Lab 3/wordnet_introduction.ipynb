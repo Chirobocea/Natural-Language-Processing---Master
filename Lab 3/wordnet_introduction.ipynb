{
 "cells": [
  {
   "cell_type": "markdown",
   "metadata": {},
   "source": [
    "### 1. Create a function that receives a word and prints the associated glosses for all the possible senses of that word (you must find all its corresponding synsets and print the gloss for each)"
   ]
  },
  {
   "cell_type": "code",
   "execution_count": 1,
   "metadata": {},
   "outputs": [
    {
     "name": "stdout",
     "output_type": "stream",
     "text": [
      "Sense: bank.n.01\n",
      "Gloss: sloping land (especially the slope beside a body of water)\n",
      "\n",
      "Sense: depository_financial_institution.n.01\n",
      "Gloss: a financial institution that accepts deposits and channels the money into lending activities\n",
      "\n",
      "Sense: bank.n.03\n",
      "Gloss: a long ridge or pile\n",
      "\n",
      "Sense: bank.n.04\n",
      "Gloss: an arrangement of similar objects in a row or in tiers\n",
      "\n",
      "Sense: bank.n.05\n",
      "Gloss: a supply or stock held in reserve for future use (especially in emergencies)\n",
      "\n",
      "Sense: bank.n.06\n",
      "Gloss: the funds held by a gambling house or the dealer in some gambling games\n",
      "\n",
      "Sense: bank.n.07\n",
      "Gloss: a slope in the turn of a road or track; the outside is higher than the inside in order to reduce the effects of centrifugal force\n",
      "\n",
      "Sense: savings_bank.n.02\n",
      "Gloss: a container (usually with a slot in the top) for keeping money at home\n",
      "\n",
      "Sense: bank.n.09\n",
      "Gloss: a building in which the business of banking transacted\n",
      "\n",
      "Sense: bank.n.10\n",
      "Gloss: a flight maneuver; aircraft tips laterally about its longitudinal axis (especially in turning)\n",
      "\n",
      "Sense: bank.v.01\n",
      "Gloss: tip laterally\n",
      "\n",
      "Sense: bank.v.02\n",
      "Gloss: enclose with a bank\n",
      "\n",
      "Sense: bank.v.03\n",
      "Gloss: do business with a bank or keep an account at a bank\n",
      "\n",
      "Sense: bank.v.04\n",
      "Gloss: act as the banker in a game or in gambling\n",
      "\n",
      "Sense: bank.v.05\n",
      "Gloss: be in the banking business\n",
      "\n",
      "Sense: deposit.v.02\n",
      "Gloss: put into a bank account\n",
      "\n",
      "Sense: bank.v.07\n",
      "Gloss: cover with ashes so to control the rate of burning\n",
      "\n",
      "Sense: trust.v.01\n",
      "Gloss: have confidence or faith in\n",
      "\n"
     ]
    }
   ],
   "source": [
    "import nltk\n",
    "from nltk.corpus import wordnet\n",
    "\n",
    "# nltk.download('wordnet', quiet=True)  \n",
    "\n",
    "def print_glosses(word):\n",
    "    synsets = wordnet.synsets(word)\n",
    "    for synset in synsets:\n",
    "        print(f\"Sense: {synset.name()}\")\n",
    "        print(f\"Gloss: {synset.definition()}\")\n",
    "        print()\n",
    "\n",
    "print_glosses('bank')"
   ]
  },
  {
   "cell_type": "markdown",
   "metadata": {},
   "source": [
    "### 2. Create a function that receives two words as parameters. The function will check, using WordNet if the two words can be synonyms (there is at least one synset that contains the two words). If such synset is found, rint the gloss for that synset."
   ]
  },
  {
   "cell_type": "code",
   "execution_count": 2,
   "metadata": {},
   "outputs": [
    {
     "name": "stdout",
     "output_type": "stream",
     "text": [
      "Synset: glad.s.02\n",
      "Gloss: eagerly disposed to act or to be of service\n"
     ]
    },
    {
     "data": {
      "text/plain": [
       "True"
      ]
     },
     "execution_count": 2,
     "metadata": {},
     "output_type": "execute_result"
    }
   ],
   "source": [
    "import nltk\n",
    "from nltk.corpus import wordnet\n",
    "\n",
    "def check_synonyms(word1, word2):\n",
    "    \n",
    "    synsets1 = wordnet.synsets(word1)\n",
    "    synsets2 = wordnet.synsets(word2)\n",
    "    \n",
    "    for synset1 in synsets1:\n",
    "        for synset2 in synsets2:\n",
    "            if synset1 == synset2:\n",
    "                print(f\"Synset: {synset1.name()}\")\n",
    "                print(f\"Gloss: {synset1.definition()}\")\n",
    "                return True\n",
    "    return False\n",
    "\n",
    "check_synonyms('happy', 'glad')"
   ]
  },
  {
   "cell_type": "markdown",
   "metadata": {},
   "source": [
    "### 3. Create a function that receives a synset object and returns a tuple with 2 lists. The first list contains the holonyms (all types of holonyms) and the second one the meronyms (all types). Find a word that has either holonyms or meronyms of different types. Print them separately (on cathegories of holonyms/meronyms) and then all together using the created function (in order to check that it prints them all)."
   ]
  },
  {
   "cell_type": "code",
   "execution_count": 3,
   "metadata": {},
   "outputs": [
    {
     "name": "stdout",
     "output_type": "stream",
     "text": [
      "Member holonyms: [Synset('forest.n.01')]\n",
      "Part holonyms: []\n",
      "Substance holonyms: []\n",
      "Member meronyms: []\n",
      "Part meronyms: [Synset('burl.n.02'), Synset('crown.n.07'), Synset('limb.n.02'), Synset('stump.n.01'), Synset('trunk.n.01')]\n",
      "Substance meronyms: [Synset('heartwood.n.01'), Synset('sapwood.n.01')]\n",
      "All holonyms: [Synset('forest.n.01')]\n",
      "All meronyms: [Synset('burl.n.02'), Synset('crown.n.07'), Synset('limb.n.02'), Synset('stump.n.01'), Synset('trunk.n.01'), Synset('heartwood.n.01'), Synset('sapwood.n.01')]\n"
     ]
    }
   ],
   "source": [
    "def get_holonyms_meronyms(synset):\n",
    "    holonyms = synset.member_holonyms() + synset.part_holonyms() + synset.substance_holonyms()\n",
    "    meronyms = synset.member_meronyms() + synset.part_meronyms() + synset.substance_meronyms()\n",
    "    return (holonyms, meronyms)\n",
    "\n",
    "tree_synset = wordnet.synset('tree.n.01')\n",
    "\n",
    "print(\"Member holonyms:\", tree_synset.member_holonyms())\n",
    "print(\"Part holonyms:\", tree_synset.part_holonyms())\n",
    "print(\"Substance holonyms:\", tree_synset.substance_holonyms())\n",
    "print(\"Member meronyms:\", tree_synset.member_meronyms())\n",
    "print(\"Part meronyms:\", tree_synset.part_meronyms())\n",
    "print(\"Substance meronyms:\", tree_synset.substance_meronyms())\n",
    "\n",
    "holonyms, meronyms = get_holonyms_meronyms(tree_synset)\n",
    "print(\"All holonyms:\", holonyms)\n",
    "print(\"All meronyms:\", meronyms)"
   ]
  },
  {
   "cell_type": "markdown",
   "metadata": {},
   "source": [
    "### 4. Create a function that for a given synset, prints the path of hypernyms (going to the next hypernym, and from that hypernym to the next one and so on, until it reaches the root)."
   ]
  },
  {
   "cell_type": "code",
   "execution_count": 4,
   "metadata": {},
   "outputs": [
    {
     "name": "stdout",
     "output_type": "stream",
     "text": [
      "tree.n.01\n",
      "woody_plant.n.01\n",
      "vascular_plant.n.01\n",
      "plant.n.02\n",
      "organism.n.01\n",
      "living_thing.n.01\n",
      "whole.n.02\n",
      "object.n.01\n",
      "physical_entity.n.01\n",
      "entity.n.01\n"
     ]
    }
   ],
   "source": [
    "def print_hypernym_path(synset):\n",
    "    while synset:\n",
    "        print(synset.name())\n",
    "        if synset.hypernyms():\n",
    "            synset = synset.hypernyms()[0]\n",
    "        else:\n",
    "            break\n",
    "\n",
    "print_hypernym_path(wordnet.synset('tree.n.01'))"
   ]
  },
  {
   "cell_type": "markdown",
   "metadata": {},
   "source": [
    "### 5. Create a function that receives two synsets as parameters. We consider d1(k) the length of the path from the first word to the hypernym k (the length of the path is the number of hypernyms it goes through, to reach k) and d2(k) the length of the path from the second word to the hypernym k. The function will return the list of hypernyms having the property that d1(k)+d2(k) is minimum"
   ]
  },
  {
   "cell_type": "code",
   "execution_count": 5,
   "metadata": {},
   "outputs": [
    {
     "name": "stdout",
     "output_type": "stream",
     "text": [
      "{Synset('entity.n.01')}\n"
     ]
    }
   ],
   "source": [
    "def find_common_hypernyms(synset1, synset2):\n",
    "\n",
    "    paths1 = synset1.hypernym_paths()\n",
    "    paths2 = synset2.hypernym_paths()\n",
    "\n",
    "    min_sum = float('inf')\n",
    "\n",
    "    common_hypernyms = []\n",
    "\n",
    "    for path1 in paths1:\n",
    "        for path2 in paths2:\n",
    "\n",
    "            common = set(path1).intersection(path2)\n",
    "\n",
    "            for hypernym in common:\n",
    "\n",
    "                sum_lengths = path1.index(hypernym) + path2.index(hypernym)\n",
    "\n",
    "                if sum_lengths < min_sum:\n",
    "                    min_sum = sum_lengths\n",
    "                    common_hypernyms = [hypernym]\n",
    "                elif sum_lengths == min_sum:\n",
    "                    common_hypernyms.append(hypernym)\n",
    "\n",
    "    return set(common_hypernyms)\n",
    "\n",
    "\n",
    "synset1 = wordnet.synset('car.n.01')\n",
    "synset2 = wordnet.synset('bus.n.01')\n",
    "print(find_common_hypernyms(synset1, synset2))"
   ]
  },
  {
   "cell_type": "markdown",
   "metadata": {},
   "source": [
    "### 6. Create a function that receives a synset object and a list of synsets (the list must contain at least 5 elements). The function will return a sorted list. The list will be sorted by the similarity between the first synset and the synsets in the list. For example (we consider we take the firs synset for each word) we can test for the word cat and the list: animal, tree, house, object, public_school, mouse."
   ]
  },
  {
   "cell_type": "code",
   "execution_count": 2,
   "metadata": {},
   "outputs": [
    {
     "name": "stdout",
     "output_type": "stream",
     "text": [
      "mouse.n.01\n",
      "animal.n.01\n",
      "object.n.01\n",
      "tree.n.01\n",
      "house.n.01\n",
      "public_school.n.01\n"
     ]
    }
   ],
   "source": [
    "def sort_by_similarity(synset, synsets):\n",
    "\n",
    "    similarities = [(other_synset, synset.path_similarity(other_synset)) for other_synset in synsets]\n",
    "    similarities.sort(key=lambda x: x[1], reverse=True)\n",
    "\n",
    "    return [synset for synset, similarity in similarities]\n",
    "\n",
    "\n",
    "synset = wordnet.synset('cat.n.01')\n",
    "synsets = [wordnet.synset(word + '.n.01') for word in ['animal', 'tree', 'house', 'object', 'public_school', 'mouse']]\n",
    "sorted_synsets = sort_by_similarity(synset, synsets)\n",
    "\n",
    "for synset in sorted_synsets:\n",
    "    print(synset.name())"
   ]
  },
  {
   "cell_type": "markdown",
   "metadata": {},
   "source": [
    "### 7. Create a function that checks if two synsets can be indirect meronyms for the same synset. An indirect meronym is either a part of the givem element or a part of a part of the given element (and we can exten this relation as being part of part of part of etc....). This applies to any type of meronym."
   ]
  },
  {
   "cell_type": "code",
   "execution_count": 7,
   "metadata": {},
   "outputs": [
    {
     "name": "stdout",
     "output_type": "stream",
     "text": [
      "True\n"
     ]
    }
   ],
   "source": [
    "def check_indirect_meronyms(synset1, synset2):\n",
    "\n",
    "    all_synsets = list(wordnet.all_synsets())\n",
    "\n",
    "    for synset in all_synsets:\n",
    "\n",
    "        meronyms = set()\n",
    "        to_check = [synset]\n",
    "        while to_check:\n",
    "            current_synset = to_check.pop()\n",
    "            current_meronyms = current_synset.member_meronyms() + current_synset.part_meronyms() + current_synset.substance_meronyms()\n",
    "            for meronym in current_meronyms:\n",
    "                if meronym not in meronyms:\n",
    "                    meronyms.add(meronym)\n",
    "                    to_check.append(meronym)\n",
    "\n",
    "        if synset1 in meronyms and synset2 in meronyms:\n",
    "            return True\n",
    "\n",
    "    return False\n",
    "\n",
    "\n",
    "synset1 = wordnet.synset('nose.n.01')\n",
    "synset2 = wordnet.synset('tail.n.01')\n",
    "print(check_indirect_meronyms(synset1, synset2))"
   ]
  },
  {
   "cell_type": "markdown",
   "metadata": {},
   "source": [
    "### 8. Print the synonyms and antonyms of an adjective (for example, \"beautiful\"). If it's polisemantic, print them for each sense, also printing the gloss for that sense (synset)."
   ]
  },
  {
   "cell_type": "code",
   "execution_count": 8,
   "metadata": {},
   "outputs": [
    {
     "name": "stdout",
     "output_type": "stream",
     "text": [
      "Sense: beautiful.a.01\n",
      "Gloss: delighting the senses or exciting intellectual or emotional admiration\n",
      "Synonyms: beautiful\n",
      "Antonyms: ugly\n",
      "\n",
      "Sense: beautiful.s.02\n",
      "Gloss: (of weather) highly enjoyable\n",
      "Synonyms: beautiful\n",
      "Antonyms: \n",
      "\n"
     ]
    }
   ],
   "source": [
    "from nltk.corpus import wordnet\n",
    "\n",
    "def print_synonyms_antonyms(word):\n",
    "    for synset in wordnet.synsets(word, pos=wordnet.ADJ):\n",
    "        print(f\"Sense: {synset.name()}\")\n",
    "        print(f\"Gloss: {synset.definition()}\")\n",
    "        print(\"Synonyms:\", \", \".join([lemma.name() for lemma in synset.lemmas()]))\n",
    "        antonyms = []\n",
    "        for lemma in synset.lemmas():\n",
    "            if lemma.antonyms():\n",
    "                antonyms.extend([antonym.name() for antonym in lemma.antonyms()])\n",
    "        print(\"Antonyms:\", \", \".join(antonyms))\n",
    "        print()\n",
    "\n",
    "print_synonyms_antonyms(\"beautiful\")"
   ]
  }
 ],
 "metadata": {
  "kernelspec": {
   "display_name": "nlp2",
   "language": "python",
   "name": "python3"
  },
  "language_info": {
   "codemirror_mode": {
    "name": "ipython",
    "version": 3
   },
   "file_extension": ".py",
   "mimetype": "text/x-python",
   "name": "python",
   "nbconvert_exporter": "python",
   "pygments_lexer": "ipython3",
   "version": "3.10.11"
  }
 },
 "nbformat": 4,
 "nbformat_minor": 2
}
