{
 "cells": [
  {
   "cell_type": "code",
   "execution_count": 1,
   "metadata": {},
   "outputs": [
    {
     "name": "stdout",
     "output_type": "stream",
     "text": [
      "[None, Det, NP, None, None, S]\n",
      "[None, None, N, None, None, None]\n",
      "[None, None, None, V, None, VP]\n",
      "[None, None, None, None, Det, NP]\n",
      "[None, None, None, None, None, N]\n",
      "[None, None, None, None, None, None]\n"
     ]
    }
   ],
   "source": [
    "import nltk\n",
    "\n",
    "# Define the grammar\n",
    "grammar = nltk.CFG.fromstring(\"\"\"\n",
    "  S -> NP VP\n",
    "  NP -> Det N\n",
    "  VP -> V NP\n",
    "  Det -> 'the' | 'a'\n",
    "  N -> 'cat' | 'dog'\n",
    "  V -> 'chases' | 'sees'\n",
    "\"\"\")\n",
    "\n",
    "def print_wfst(sentence):\n",
    "\n",
    "    sentence = sentence.split()\n",
    "\n",
    "    # Initialize the WFST\n",
    "    n = len(sentence)\n",
    "    wfst = [[None for _ in range(n + 1)] for _ in range(n + 1)]\n",
    "\n",
    "    # Populate the WFST for substrings of length 1\n",
    "    for i in range(n):\n",
    "        productions = grammar.productions(rhs=sentence[i])\n",
    "        if productions:\n",
    "            wfst[i][i+1] = productions[0].lhs()\n",
    "\n",
    "    # Populate the WFST for substrings of length > 1\n",
    "    for span in range(2, n + 1):\n",
    "        for start in range(n + 1 - span):\n",
    "            end = start + span\n",
    "            for mid in range(start + 1, end):\n",
    "                left_cell = wfst[start][mid]\n",
    "                right_cell = wfst[mid][end]\n",
    "                if left_cell and right_cell:\n",
    "                    for prod in grammar.productions():\n",
    "                        if prod.rhs() == (left_cell, right_cell):\n",
    "                            wfst[start][end] = prod.lhs()\n",
    "                            break\n",
    "\n",
    "    for row in wfst:\n",
    "        print(row)\n",
    "\n",
    "print_wfst(\"the cat sees a dog\")"
   ]
  }
 ],
 "metadata": {
  "kernelspec": {
   "display_name": "nlp",
   "language": "python",
   "name": "python3"
  },
  "language_info": {
   "codemirror_mode": {
    "name": "ipython",
    "version": 3
   },
   "file_extension": ".py",
   "mimetype": "text/x-python",
   "name": "python",
   "nbconvert_exporter": "python",
   "pygments_lexer": "ipython3",
   "version": "3.11.9"
  }
 },
 "nbformat": 4,
 "nbformat_minor": 2
}
