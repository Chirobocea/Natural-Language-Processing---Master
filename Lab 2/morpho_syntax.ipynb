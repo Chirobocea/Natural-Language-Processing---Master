{
 "cells": [
  {
   "cell_type": "markdown",
   "metadata": {},
   "source": [
    "Imports"
   ]
  },
  {
   "cell_type": "code",
   "execution_count": 2,
   "metadata": {},
   "outputs": [],
   "source": [
    "import os\n",
    "\n",
    "os.environ['STANFORD_PARSER'] = \"stanford-parser-4.2.0/stanford-parser-full-2020-11-17/stanford-parser.jar\"\n",
    "os.environ['STANFORD_MODELS'] = \"stanford-parser-4.2.0/stanford-parser-full-2020-11-17/stanford-parser-4.2.0-models.jar\"\n",
    "\n",
    "\n",
    "import wikipedia\n",
    "import matplotlib.pyplot as plt\n",
    "from collections import Counter\n",
    "import nltk\n",
    "from nltk import pos_tag, word_tokenize, CFG\n",
    "from nltk.tokenize import word_tokenize, sent_tokenize\n",
    "from nltk.stem import WordNetLemmatizer\n",
    "from nltk.corpus import wordnet\n",
    "from nltk.tag.stanford import StanfordPOSTagger\n",
    "from nltk.parse.stanford import StanfordParser\n",
    "from nltk.parse import ShiftReduceParser, RecursiveDescentParser\n"
   ]
  },
  {
   "cell_type": "markdown",
   "metadata": {},
   "source": [
    "### 1) \n",
    "Choose a wikipedia article. You will download and acces the article using this python module: wikipedia. Use the content property to extract the text. Print the title of the article and the first N=200 words from the article to verify that all works well. Print the POS-tagging for the first N=20 sentences."
   ]
  },
  {
   "cell_type": "code",
   "execution_count": 3,
   "metadata": {},
   "outputs": [
    {
     "name": "stdout",
     "output_type": "stream",
     "text": [
      "Title:  English language\n",
      "First 200 words:  English is a West Germanic language in the Indo-European language family , whose speakers , called Anglophones , originated in early medieval England . The namesake of the language is the Angles , one of the ancient Germanic peoples that migrated to the island of Great Britain . English is the most spoken language in the world , primarily due to the global influences of the former British Empire ( succeeded by the Commonwealth of Nations ) and the United States . English is the third-most spoken native language , after Mandarin Chinese and Spanish ; it is also the most widely learned second language in the world , with more second-language speakers than native speakers . English is either the official language or one of the official languages in 59 sovereign states ( such as in India , Ireland , and Canada ) . In some other countries , it is the sole or dominant language for historical reasons without being explicitly defined by law ( such as in the United States and United Kingdom ) . It is a co-official language of the United Nations , the European Union , and many other international and regional organisations .\n"
     ]
    },
    {
     "name": "stderr",
     "output_type": "stream",
     "text": [
      "[nltk_data] Downloading package punkt to\n",
      "[nltk_data]     C:\\Users\\chimi\\AppData\\Roaming\\nltk_data...\n",
      "[nltk_data]   Package punkt is already up-to-date!\n",
      "[nltk_data] Downloading package averaged_perceptron_tagger to\n",
      "[nltk_data]     C:\\Users\\chimi\\AppData\\Roaming\\nltk_data...\n",
      "[nltk_data]   Package averaged_perceptron_tagger is already up-to-\n",
      "[nltk_data]       date!\n"
     ]
    },
    {
     "name": "stdout",
     "output_type": "stream",
     "text": [
      "Sentence 1 POS tags:  [('English', 'NNP'), ('is', 'VBZ'), ('a', 'DT'), ('West', 'NNP'), ('Germanic', 'NNP'), ('language', 'NN'), ('in', 'IN'), ('the', 'DT'), ('Indo-European', 'JJ'), ('language', 'NN'), ('family', 'NN'), (',', ','), ('whose', 'WP$'), ('speakers', 'NNS'), (',', ','), ('called', 'VBN'), ('Anglophones', 'NNS'), (',', ','), ('originated', 'VBN'), ('in', 'IN'), ('early', 'JJ'), ('medieval', 'NN'), ('England', 'NNP'), ('.', '.')]\n",
      "Sentence 2 POS tags:  [('The', 'DT'), ('namesake', 'NN'), ('of', 'IN'), ('the', 'DT'), ('language', 'NN'), ('is', 'VBZ'), ('the', 'DT'), ('Angles', 'NNP'), (',', ','), ('one', 'CD'), ('of', 'IN'), ('the', 'DT'), ('ancient', 'NN'), ('Germanic', 'NNP'), ('peoples', 'VBZ'), ('that', 'WDT'), ('migrated', 'VBD'), ('to', 'TO'), ('the', 'DT'), ('island', 'NN'), ('of', 'IN'), ('Great', 'NNP'), ('Britain', 'NNP'), ('.', '.')]\n",
      "Sentence 3 POS tags:  [('English', 'NNP'), ('is', 'VBZ'), ('the', 'DT'), ('most', 'RBS'), ('spoken', 'JJ'), ('language', 'NN'), ('in', 'IN'), ('the', 'DT'), ('world', 'NN'), (',', ','), ('primarily', 'RB'), ('due', 'JJ'), ('to', 'TO'), ('the', 'DT'), ('global', 'JJ'), ('influences', 'NNS'), ('of', 'IN'), ('the', 'DT'), ('former', 'JJ'), ('British', 'JJ'), ('Empire', 'NNP'), ('(', '('), ('succeeded', 'VBN'), ('by', 'IN'), ('the', 'DT'), ('Commonwealth', 'NNP'), ('of', 'IN'), ('Nations', 'NNP'), (')', ')'), ('and', 'CC'), ('the', 'DT'), ('United', 'NNP'), ('States', 'NNPS'), ('.', '.')]\n",
      "Sentence 4 POS tags:  [('English', 'NNP'), ('is', 'VBZ'), ('the', 'DT'), ('third-most', 'JJ'), ('spoken', 'JJ'), ('native', 'JJ'), ('language', 'NN'), (',', ','), ('after', 'IN'), ('Mandarin', 'NNP'), ('Chinese', 'NNP'), ('and', 'CC'), ('Spanish', 'NNP'), (';', ':'), ('it', 'PRP'), ('is', 'VBZ'), ('also', 'RB'), ('the', 'DT'), ('most', 'RBS'), ('widely', 'RB'), ('learned', 'VBN'), ('second', 'JJ'), ('language', 'NN'), ('in', 'IN'), ('the', 'DT'), ('world', 'NN'), (',', ','), ('with', 'IN'), ('more', 'RBR'), ('second-language', 'JJ'), ('speakers', 'NNS'), ('than', 'IN'), ('native', 'JJ'), ('speakers', 'NNS'), ('.', '.')]\n",
      "Sentence 5 POS tags:  [('English', 'NNP'), ('is', 'VBZ'), ('either', 'CC'), ('the', 'DT'), ('official', 'JJ'), ('language', 'NN'), ('or', 'CC'), ('one', 'CD'), ('of', 'IN'), ('the', 'DT'), ('official', 'JJ'), ('languages', 'NNS'), ('in', 'IN'), ('59', 'CD'), ('sovereign', 'JJ'), ('states', 'NNS'), ('(', '('), ('such', 'JJ'), ('as', 'IN'), ('in', 'IN'), ('India', 'NNP'), (',', ','), ('Ireland', 'NNP'), (',', ','), ('and', 'CC'), ('Canada', 'NNP'), (')', ')'), ('.', '.')]\n",
      "Sentence 6 POS tags:  [('In', 'IN'), ('some', 'DT'), ('other', 'JJ'), ('countries', 'NNS'), (',', ','), ('it', 'PRP'), ('is', 'VBZ'), ('the', 'DT'), ('sole', 'NN'), ('or', 'CC'), ('dominant', 'JJ'), ('language', 'NN'), ('for', 'IN'), ('historical', 'JJ'), ('reasons', 'NNS'), ('without', 'IN'), ('being', 'VBG'), ('explicitly', 'RB'), ('defined', 'VBN'), ('by', 'IN'), ('law', 'NN'), ('(', '('), ('such', 'JJ'), ('as', 'IN'), ('in', 'IN'), ('the', 'DT'), ('United', 'NNP'), ('States', 'NNPS'), ('and', 'CC'), ('United', 'NNP'), ('Kingdom', 'NNP'), (')', ')'), ('.', '.')]\n",
      "Sentence 7 POS tags:  [('It', 'PRP'), ('is', 'VBZ'), ('a', 'DT'), ('co-official', 'JJ'), ('language', 'NN'), ('of', 'IN'), ('the', 'DT'), ('United', 'NNP'), ('Nations', 'NNPS'), (',', ','), ('the', 'DT'), ('European', 'NNP'), ('Union', 'NNP'), (',', ','), ('and', 'CC'), ('many', 'JJ'), ('other', 'JJ'), ('international', 'JJ'), ('and', 'CC'), ('regional', 'JJ'), ('organisations', 'NNS'), ('.', '.')]\n",
      "Sentence 8 POS tags:  [('It', 'PRP'), ('has', 'VBZ'), ('also', 'RB'), ('become', 'VBN'), ('the', 'DT'), ('de', 'FW'), ('facto', 'FW'), ('lingua', 'FW'), ('franca', 'JJ'), ('language', 'NN'), ('of', 'IN'), ('diplomacy', 'NN'), (',', ','), ('science', 'NN'), (',', ','), ('technology', 'NN'), (',', ','), ('international', 'JJ'), ('trade', 'NN'), (',', ','), ('logistics', 'NNS'), (',', ','), ('tourism', 'NN'), (',', ','), ('aviation', 'NN'), (',', ','), ('entertainment', 'NN'), ('and', 'CC'), ('the', 'DT'), ('internet', 'NN'), ('.', '.')]\n",
      "Sentence 9 POS tags:  [('English', 'JJ'), ('accounts', 'NNS'), ('for', 'IN'), ('at', 'IN'), ('least', 'JJS'), ('70', 'CD'), ('%', 'NN'), ('of', 'IN'), ('total', 'JJ'), ('speakers', 'NNS'), ('of', 'IN'), ('the', 'DT'), ('Germanic', 'NNP'), ('language', 'NN'), ('branch', 'NN'), (',', ','), ('and', 'CC'), ('as', 'IN'), ('of', 'IN'), ('2005', 'CD'), (',', ','), ('it', 'PRP'), ('was', 'VBD'), ('estimated', 'VBN'), ('that', 'IN'), ('there', 'EX'), ('were', 'VBD'), ('over', 'IN'), ('two', 'CD'), ('billion', 'CD'), ('speakers', 'NNS'), ('worldwide', 'RB'), ('.', '.')]\n",
      "Sentence 10 POS tags:  [('Old', 'NNP'), ('English', 'NNP'), ('emerged', 'VBD'), ('from', 'IN'), ('a', 'DT'), ('group', 'NN'), ('of', 'IN'), ('West', 'NNP'), ('Germanic', 'NNP'), ('dialects', 'NNS'), ('spoken', 'VBN'), ('by', 'IN'), ('the', 'DT'), ('Anglo-Saxons', 'NNS'), ('.', '.')]\n",
      "Sentence 11 POS tags:  [('Late', 'RB'), ('Old', 'NNP'), ('English', 'NNP'), ('borrowed', 'VBD'), ('some', 'DT'), ('grammar', 'NN'), ('and', 'CC'), ('core', 'NN'), ('vocabulary', 'NN'), ('from', 'IN'), ('Old', 'NNP'), ('Norse', 'NNP'), (',', ','), ('a', 'DT'), ('North', 'NNP'), ('Germanic', 'NNP'), ('language', 'NN'), ('.', '.')]\n",
      "Sentence 12 POS tags:  [('Then', 'RB'), (',', ','), ('Middle', 'NNP'), ('English', 'NNP'), ('borrowed', 'VBD'), ('words', 'NNS'), ('extensively', 'RB'), ('from', 'IN'), ('French', 'JJ'), ('dialects', 'NNS'), (',', ','), ('which', 'WDT'), ('make', 'VBP'), ('up', 'RP'), ('about', 'RB'), ('28', 'CD'), ('%', 'NN'), ('of', 'IN'), ('Modern', 'NNP'), ('English', 'NNP'), ('vocabulary', 'NN'), (',', ','), ('and', 'CC'), ('from', 'IN'), ('Latin', 'NNP'), (',', ','), ('which', 'WDT'), ('also', 'RB'), ('provides', 'VBZ'), ('about', 'IN'), ('28', 'CD'), ('%', 'NN'), ('.', '.')]\n",
      "Sentence 13 POS tags:  [('As', 'IN'), ('such', 'JJ'), (',', ','), ('although', 'IN'), ('most', 'JJS'), ('of', 'IN'), ('its', 'PRP$'), ('total', 'JJ'), ('vocabulary', 'JJ'), ('comes', 'VBZ'), ('from', 'IN'), ('Romance', 'NNP'), ('languages', 'NNS'), (',', ','), ('its', 'PRP$'), ('grammar', 'NN'), (',', ','), ('phonology', 'NN'), (',', ','), ('and', 'CC'), ('most', 'JJS'), ('commonly', 'RB'), ('used', 'VBN'), ('words', 'NNS'), ('keep', 'VB'), ('it', 'PRP'), ('genealogically', 'RB'), ('classified', 'VBD'), ('under', 'IN'), ('the', 'DT'), ('Germanic', 'NNP'), ('branch', 'NN'), ('.', '.')]\n",
      "Sentence 14 POS tags:  [('English', 'JJ'), ('exists', 'NNS'), ('on', 'IN'), ('a', 'DT'), ('dialect', 'JJ'), ('continuum', 'NN'), ('with', 'IN'), ('Scots', 'NNP'), ('and', 'CC'), ('is', 'VBZ'), ('most', 'RBS'), ('closely', 'RB'), ('related', 'VBN'), ('to', 'TO'), ('the', 'DT'), ('Low', 'NNP'), ('Saxon', 'NNP'), ('and', 'CC'), ('Frisian', 'JJ'), ('languages', 'NNS'), ('.', '.')]\n",
      "Sentence 15 POS tags:  [('==', 'JJ'), ('Classification', 'NNP'), ('==', 'NNP'), ('English', 'NNP'), ('is', 'VBZ'), ('an', 'DT'), ('Indo-European', 'JJ'), ('language', 'NN'), ('and', 'CC'), ('belongs', 'NNS'), ('to', 'TO'), ('the', 'DT'), ('West', 'NNP'), ('Germanic', 'NNP'), ('group', 'NN'), ('of', 'IN'), ('the', 'DT'), ('Germanic', 'NNP'), ('languages', 'NNS'), ('.', '.')]\n",
      "Sentence 16 POS tags:  [('Old', 'NNP'), ('English', 'NNP'), ('originated', 'VBD'), ('from', 'IN'), ('a', 'DT'), ('Germanic', 'NNP'), ('tribal', 'NN'), ('and', 'CC'), ('linguistic', 'JJ'), ('continuum', 'NN'), ('along', 'IN'), ('the', 'DT'), ('Frisian', 'JJ'), ('North', 'NNP'), ('Sea', 'NNP'), ('coast', 'NN'), (',', ','), ('whose', 'WP$'), ('languages', 'NNS'), ('gradually', 'RB'), ('evolved', 'VBD'), ('into', 'IN'), ('the', 'DT'), ('Anglic', 'NNP'), ('languages', 'VBZ'), ('in', 'IN'), ('the', 'DT'), ('British', 'JJ'), ('Isles', 'NNP'), (',', ','), ('and', 'CC'), ('into', 'IN'), ('the', 'DT'), ('Frisian', 'JJ'), ('languages', 'NNS'), ('and', 'CC'), ('Low', 'NNP'), ('German/Low', 'NNP'), ('Saxon', 'NNP'), ('on', 'IN'), ('the', 'DT'), ('continent', 'NN'), ('.', '.')]\n",
      "Sentence 17 POS tags:  [('The', 'DT'), ('Frisian', 'JJ'), ('languages', 'NNS'), (',', ','), ('which', 'WDT'), ('together', 'RB'), ('with', 'IN'), ('the', 'DT'), ('Anglic', 'NNP'), ('languages', 'VBZ'), ('form', 'VB'), ('the', 'DT'), ('Anglo-Frisian', 'JJ'), ('languages', 'NNS'), (',', ','), ('are', 'VBP'), ('the', 'DT'), ('closest', 'JJS'), ('living', 'NN'), ('relatives', 'NNS'), ('of', 'IN'), ('English', 'NNP'), ('.', '.')]\n",
      "Sentence 18 POS tags:  [('Low', 'JJ'), ('German/Low', 'NNP'), ('Saxon', 'NNP'), ('is', 'VBZ'), ('also', 'RB'), ('closely', 'RB'), ('related', 'VBN'), (',', ','), ('and', 'CC'), ('sometimes', 'RB'), ('English', 'NNP'), (',', ','), ('the', 'DT'), ('Frisian', 'JJ'), ('languages', 'NNS'), (',', ','), ('and', 'CC'), ('Low', 'JJ'), ('German', 'NNP'), ('are', 'VBP'), ('grouped', 'VBN'), ('together', 'RB'), ('as', 'IN'), ('the', 'DT'), ('North', 'NNP'), ('Sea', 'NNP'), ('Germanic', 'NNP'), ('languages', 'VBZ'), (',', ','), ('though', 'IN'), ('this', 'DT'), ('grouping', 'NN'), ('remains', 'VBZ'), ('debated', 'VBN'), ('.', '.')]\n",
      "Sentence 19 POS tags:  [('Old', 'NNP'), ('English', 'NNP'), ('evolved', 'VBD'), ('into', 'IN'), ('Middle', 'NNP'), ('English', 'NNP'), (',', ','), ('which', 'WDT'), ('in', 'IN'), ('turn', 'NN'), ('evolved', 'VBN'), ('into', 'IN'), ('Modern', 'NNP'), ('English', 'NNP'), ('.', '.')]\n",
      "Sentence 20 POS tags:  [('Particular', 'JJ'), ('dialects', 'NNS'), ('of', 'IN'), ('Old', 'NNP'), ('and', 'CC'), ('Middle', 'NNP'), ('English', 'NNP'), ('also', 'RB'), ('developed', 'VBD'), ('into', 'IN'), ('a', 'DT'), ('number', 'NN'), ('of', 'IN'), ('other', 'JJ'), ('Anglic', 'NNP'), ('languages', 'NNS'), (',', ','), ('including', 'VBG'), ('Scots', 'NNP'), ('and', 'CC'), ('the', 'DT'), ('extinct', 'JJ'), ('Fingallian', 'JJ'), ('dialect', 'NN'), ('and', 'CC'), ('Yola', 'NNP'), ('language', 'NN'), ('of', 'IN'), ('Ireland', 'NNP'), ('.', '.')]\n"
     ]
    }
   ],
   "source": [
    "wikipedia.set_lang(\"en\")\n",
    "page = wikipedia.page(title=\"English language\")\n",
    "\n",
    "content = page.content\n",
    "\n",
    "print(\"Title: \", page.title)\n",
    "# Print the first N=200 words from the article\n",
    "words = word_tokenize(content)\n",
    "print(\"First 200 words: \", ' '.join(words[:200]))\n",
    "\n",
    "nltk.download('punkt')\n",
    "nltk.download('averaged_perceptron_tagger')\n",
    "\n",
    "# Print the POS-tagging for the first N=20 sentences\n",
    "sentences = sent_tokenize(content)\n",
    "for i, sent in enumerate(sentences[:20]):\n",
    "    print(f\"Sentence {i+1} POS tags: \", nltk.pos_tag(word_tokenize(sent)))\n"
   ]
  },
  {
   "cell_type": "markdown",
   "metadata": {},
   "source": [
    "### 2)\n",
    "Create a function that receives a part of speech tag and returns a list with all the words from the text (can be given as a parameter too) that represent that part of speech. Create a function that receives a list of POS tags and returns a list with words having any of the given POS tags (use the first function in implementing the second one)."
   ]
  },
  {
   "cell_type": "code",
   "execution_count": 4,
   "metadata": {},
   "outputs": [],
   "source": [
    "def get_words_for_pos(text, pos_tag):\n",
    "    words = word_tokenize(text)\n",
    "    pos_tags = nltk.pos_tag(words)\n",
    "    return list(set([word for word, tag in pos_tags if tag == pos_tag]))\n",
    "\n",
    "def get_words_for_pos_list(text, pos_tags_list):\n",
    "    result = []\n",
    "    for pos_tag in pos_tags_list:\n",
    "        result.extend(get_words_for_pos(text, pos_tag))\n",
    "    return result"
   ]
  },
  {
   "cell_type": "code",
   "execution_count": 5,
   "metadata": {},
   "outputs": [
    {
     "name": "stdout",
     "output_type": "stream",
     "text": [
      "Nouns: ['living', 'series', 'creole—a', 'start', 'use', 'trade', 'vocabulary', 'contact', 'verbs', 'world', 'island', 'grammar', 'law', 'family', 'influence', 'turn', 'division', 'diplomacy', 'Dutch', 'phonology', 'technology', 'ancient', 'tourism', 'theory', 'sound', 'core', 'amount', 'science', 'entertainment', 'clades—but', 'ancestor', 'continent', 'group', 'share', 'trend', 'grouping', 'modal', 'language', 'hypothesis', 'creole', 'history', 'medieval', 'number', 'branch', 'aviation', 'sole', 'internet', 'tribal', '%', 'century', 'continuum', 'coast', 'palatalisation', 'development', 'namesake', 'mark', 'dialect']\n",
      "Verbs: ['see', 'form', 'be', 'keep', 'do', 'consider', 'show']\n",
      "Nouns or Verbs: ['living', 'series', 'creole—a', 'start', 'use', 'trade', 'vocabulary', 'contact', 'verbs', 'world', 'island', 'grammar', 'law', 'family', 'influence', 'turn', 'division', 'diplomacy', 'Dutch', 'phonology', 'technology', 'ancient', 'tourism', 'theory', 'sound', 'core', 'amount', 'science', 'entertainment', 'clades—but', 'ancestor', 'continent', 'group', 'share', 'trend', 'grouping', 'modal', 'language', 'hypothesis', 'creole', 'history', 'medieval', 'number', 'branch', 'aviation', 'sole', 'internet', 'tribal', '%', 'century', 'continuum', 'coast', 'palatalisation', 'development', 'namesake', 'mark', 'dialect', 'see', 'form', 'be', 'keep', 'do', 'consider', 'show']\n"
     ]
    }
   ],
   "source": [
    "text = ' '.join(words[:1000])\n",
    "\n",
    "# Get all the nouns from the text\n",
    "nouns = get_words_for_pos(text, 'NN')\n",
    "print(\"Nouns:\", nouns)\n",
    "\n",
    "# Get all the verbs from the text\n",
    "verbs = get_words_for_pos(text, 'VB')\n",
    "print(\"Verbs:\", verbs)\n",
    "\n",
    "# Get all the words that are either nouns or verbs\n",
    "nouns_or_verbs = get_words_for_pos_list(text, ['NN', 'VB'])\n",
    "print(\"Nouns or Verbs:\", nouns_or_verbs)"
   ]
  },
  {
   "cell_type": "markdown",
   "metadata": {},
   "source": [
    "### 3)\n",
    "Use the function above to print all the nouns (there are multiple tags for nouns), and, respectively all the verbs (corresponding to all verb tags). Also, print the percentage of content words (noun+verbs) from the entire text"
   ]
  },
  {
   "cell_type": "code",
   "execution_count": 6,
   "metadata": {},
   "outputs": [
    {
     "name": "stdout",
     "output_type": "stream",
     "text": [
      "Nouns:  ['stress', 'shift', 'r', 'morning', 'quality', 'd', 'scuba', 'e.g.', 'variability', 'i.e', 'information', 'inversion', 'b̥ɪˑn', 'cue', 'economy', 'tense', 'copular', 'get', 'remainder', 'standardisation', 'population', 'morphology', 'basis', 'phrase', 'y', 'spread', 'philosophy', 'holu', 'pace', 'risk', 'k', 'vowel', 'sword', 'p̚', 'bone', 'hypothesis', 'home', 'mood', 'ancestry', 'sw/', 'han', 'basilect', 'study', 'conquest', 'sovereign', 'oh', 'rationale', 'chain', 'verb', '-t', 'subset', 'member', 'development', 'photograph', 'migration', 'telecommunications', 'instruction', 'flap', 's', 'accent', 'pʰ', 'pin', 'one', 'ideal', 'contact', '/ð/', 'dreamt', 'word-formation', 'past', 'version', '⟨æ⟩', 'mention', 'light', 'myriad', 'presence', 'conjugation', 'play', 'settlement', 'reverse', 'lenis', 'ch', 'advantage', 'combination', 'yod-coalescence', 'complement', 'terminate', 'conversion', 'event', 'feature', 'themself', 'wave', '/ɡ/', 'spectrum', 'consensus', 'coda', 'afterthought', 'anaphora', 'need', 'account', 'obstruent', '/f/', 'breath', 'stem', 'day', 'g', 'present', 'attitude', 'crust', 'continuum', 'degree', 'decreasing', 'reason', 'syntax', 'manner', 'stop', 'class', 'newspaper', 'impact', 'h', 'wind', 'ox', 'divergence', 'represent', 'fʊɫ', 'nit', 'knife', 'intonation', 'reader', 'Negation', 'equivalent', '-hood', '/ʃ/', 'subjective', 'modifier', '*', 'below', 'turn', 'borrowing', 'ridge', 'era', 'theory', 'syllable', 'progression', 'subordinate', '⟨þ⟩', 'negation', 'spin', 'expense', 'cat', 'practice', 'dʒ', 'independence', 'c', 'end', 'mother', 'replacement', 'membership', 'thou', 'country-by-country', 'fact', '/z/', 'x', 'change', 'instance', 'happier', 'linguist', '-n', 'ng', 'bin', 'count', 'creation', 'quarter', 'quaint', 'haue', 'growth', 'standard', 'variety', 'regulation', 'medicine', 'concurrent', 'laˑɪ̯', 'friend', 'articulation', 'research', 'comparison', 'audience', 'Regularisation', 'politer', 'particle', 'progress', 'form', 'group', 'i', 'way', 'death', 'refrain', 'shortening', 'habbað', 'order', 'adverb', 'aviation', 'inner', 'text', 'acquisition', 'pronunciation', '==', 'she/her', 't͡ʃ', 'bite', 'hera', 'reading', 'power', 'state', 'o', 'beet', 'trade', 'vocabulary', 'minority', 'dependent', 'phrasal', 'organisation', 'note', 'rɪtʃ', 'individual', 'pronouns', 'influence', 'communication', 'diplomacy', 'wh-word', 'one-third', 'core', 'l', 'lingua', 'button', 'preterite', 'name', 'clades—but', 'continent', 'ratio', 'continua', 'street', 'spoken', 'ye', 'foot', 'plural', 'egg', 'century', 'breaking', 'aid', 'List', 'length', 'listening', 'codas', 'possibility', 'relationship', 'introduction', 'part', 'night', 'faster', 'code-switching', 'unit', 'predicate', 'fricative', 'proportion', 'function', 'have', 'glide-deleting', 'choice', 'centre', 'r-fulness', 'writing', 'lack', 'dominance', 'dislocation', 'electricity', 'force', 'z/', 'tomorrow', 'circle', 'trend', 'book', 'requirement', 'voicing', 'modal', 'drawl', 'stay', 'relative', 'episode', 'sole', 'speaking', 'who/whom', 'z', 'opinion', 'interaction', 'education', 'indicator', 'formation', 'legacy', 'onset', 'medium', 'aloud', 'world', 'nasal', 'spite', 'knowledge', 'element', 'he/him', 'marking', 'focus', 'expression', 'division', '/lɔx/', 'vs', 'tourism', 'outcome', 'dʒ/', 'head', 'amount', 'argument', ']', 'beginning', 'share', 'do-support', 'half', 'conjunction', 'sense', 'register', 'dental', 'foundation', '/ə/', 'commoner', \"y'all\", 'business', 'indefinite', 'consonant', 'namesake', 'tinge', 'inanimate', 'verb-second', 'polity', '/h/', 'today', 'lie', 'case', 'b/', 'bɪd', 'estimate', 'stung', 'abbot', 'result', 'hole-ACC.PL', 'e.g', 'pʰɪn', 'hotdog', 'pattern', 'conclusion', 'singular', '/kw/', 'technology', 'bʲeː', 'topic', 'wine–whine', 'theme', 'simplification', 'printing', 'comparative', 'h-', 'interference', 'truly', 'grouping', 'region', 'fortis', 'laser', 'compound', 'branch', 'foot/feet', 'decision', 'cleft', 'elite', 'stance', 'notion', 'colonisation', 'official', 'employment', 'question', '/r/', 'dark', 'possessive', 'creole—a', 'start', 'use', 'alignment', 'corpus', 'perfect', 'none', 'oblique', 'ghost', 'size', 'law', 'f/', 'reference', 'ablaut', 'action', 'nestis', '/ˈdrɔːrɪŋ/', 'place', 'chair', 'exception', 'infinitive', '/lɔk/', 'purpose', 'language', 'medieval', 'apostrophe', 'sky', 'decolonisation', '%', 'model', 'briddis', 'rhyme', 'cream', 'q', 'franca', 'bay', 'meet', 'front', 'fly', 'spa', 'gerund-participle', 'outer', 'dialect', 'fugol', 'aspect', 'recipient', 'articulatory', 'purism', 'series', 'attaching', 'level', 'terminology', 'radio', 'versus', 'planet', 'authority', 't-glottalisation', 'contexts', 'prestige', 'bread', 'loss', 'view', 'top', 'sh', 'island', 'constituent', 'poll', 'press', 'definiteness', 'd̪', 'rɪˑdʒ', 'reduction', 'term', 'preposition', 'rule', 'seˑɪ̯v', 'colon', 'f', 'contrast', 'boot', 'origin', 'Formation', 'aspiration', 'transition', 'hundred-thousand', '/l/', 'taking', 'e', 'agreement', 'nip', 'creole', 'discourse', 'tribal', 'literature', 'nɪˑb̥', 'ow', 'poem', 'v/', 'translation', 'bee', 'area', 'd/', 'loan', 'wife', 'address', 'husband', '-ility', 'rhythm', 'living', '⟨ː⟩', 'paddle', 'Discourse', 'th', 'routine', 'm', 'non-rhoticity', 'think', 'Possession', 'bother', 'lock', 'rhoticity', 'dummy', 'field', 'effect', 'punctuation', 'h-dropping', 'word', 'Dutch', 'inventory', 'representation', 'inflection', 'percent', 'good-quality', '/θ/', 'clause', 'r-dropping', 'we/us', 'b', 'qu', 'sprint', 'approximant', 'quantity', 'prefixed', 'Literature', 'community', 'school', 'arrival', 'time', 'skirt', 'vary', 'homesick', 'boat', 'fridge', 'intensity', 'future', 'girl', '⟨ð⟩', 'v', 'auxiliary', 'sn̥əʊ̯', '/ɒ/', '/aɪ/', 'polarity', 'words—but', 'nation', 'method', 'structure', 'working', 'p', 'spɪn', 'dog', 'voiceless', 'corpora', 'spelling', 'epicene', 'overview', 'type', '====', 'oversight', 'difference', 'phonology', 'permit', '/ɪ/', 'twang', 'addition', 'edition', 'wine', 'administration', 'worldwide', 'system', 'superpower', 'table', 'heuene', 'and/or', 'base', 'distribution', 'orthography', 'quick', 'segmentation', 'capital', 'voiced', '/x/', 'situation', 'range', 'source', 'compounding', 'cake', 'tribes', 'definite', 'navigation', 'mark', 'voice', 'item', 'parity', 'publishing', 'they/them', '⟨h⟩', '[', 'heofonan', 'ʔp', 'emphasis', 'determiner', 'do', 'sector', 'verbs', '-s', 'ay', 'verse', 'process', 'family', 'set', 'pronoun', 'tendency', 'coherent', 'proficiency', 'treaty', 'mass', 'pure', 'objective', 'differ', 'ancient', 'speech', 'disbelief', 'primacy', 'texts', 'country', 'woman', 'devoice', 'favour', \"d'Arthur\", 'attrition', 'man', 'clay', 'number', 'gnat', 'sentence', 'internet', 'usage', 'gender', '/k/', 'w', 'ambiguity', 'occupation', '/tʃ/', 'someone', 'palatalisation', 'derivation', 'masculine', 'contract', 'fish', 'epic', 'optometry', 'letter', '/ŋ/', 'th-', 'separate', 'j', 'status', 'boundary', 'comment', 'interest', 'possession', 'object', 'norm', 'genitive', 'r/', 'intelligibility', 'science', 'ancestor', 'deal', 'television', 'history', 'seɪ̯f', 'variation', 'coast', 'custom', 'colonialism', 'tension', 'role', 'superlative', 's/', 'copula', 'jargon', '-ness', 'percentage', 'government', 'wasp', 'culture', 'addressee', 'kingdom', 'evidence', '⟨ƿ⟩', '/t/', 'affixation', 'oa', 'legislation', 'tongue', 'suitable', 'hol-u', 'grammar', 'broadcasting', 'Today', 'adverbs', 'child', 'sound', 'slender', 'oxen', 'babysitter', 'point', 'entertainment', 'wealth', 'script', 'person', 'consequence', 'nineteen', 'marker', 'record', 'whine', '===', 'noun', 't', 'duration', 'resistance', 'loaf', 'interlocutor', 'art', 'merger', 'life', 't͡ʃail', 'ph', 'ice', 'suffix', 'alphabet', 'acronyms', 'concrete', 'string', 'piece', 'postposition', 'inner-circle', 'conversation', 'society', 'journal', '-er', 'pɪn', 'movement', 'Fortis', 'answer', 'serve', 'ayre', 'root', 'distinction', 'laɪ̯t', 'car', 'cohesion', 'subject', 'entity', 'feminine', 'period', 'speak', 'domain', 'meaning', 'consisting', 'knight', 'reign', 'boy', 'pidgin', 'position', 'patient', 'construction', 'tʃ', 'burnout', 'pitch', 'exposure', 'correspondence', 'majority', 'enclitic', 'colonial', 'bover', 'example', 'participle', 'neologism', 'imperialism', 'works', 'speaker', 'pl.', '/sprɪnt/', 'photography', 'house', 'reform', 'rabbit', 'questions—inversion', 'nasals', 'claims', 'fuglas', 'styles', 'languages', 'towards', 'books', 'letterforms', 'belongs', 'lines', 'children', 'abbreviations', 'sonorants', 'Pronouns', 'terms', 'distributions', 'teachers', 'diphthongs', 'Prepositions', 's', 'lexicographers', 'passages', 'Determiners', 'labels', 'dates', 'interlocutors', 'examples', 'interactions', 'stems', 'Examples', 'referents', 'situations', 'Countries', 'correspondences', 'spreads', 'objects', 'nests', 'forms', 'traits', 'slaves', 'governments', 'causes', 'degrees', 'articles', 'programmes', 'questions', 'relationships', 'spectacles', 'g', 'phonemes', 'digraphs', 'recordings', 'settlers', 'loanwords', 'aspects', 'stages', 'systems', 'types', 'industries', 'occupations', 'offshoots', 'broadcasters', 'word-classes', '*', 'creoles', 'classes', 'innovations', 'moods', 'syllables', 'prepositions', 'similarities', 'irregularities', 'results', 'exceptions', 'purposes', 'heads', 'youths', 'Varieties', 'possessions', 'identities', 'clauses', 'roles', 'subordinators', 'variants', 'users', 'residues', 'shares', 'elements', 'wh-words', 'countries', 'calques', 'varieties', 'changes', 'negotiations', 'relies', 'waves', 'Vestiges', 'differs', 'millions', 'sequences', 'specifiers', 'media', 'pronouns', 'sentences', 'dialects', 'collocations', 'comparatives', 'differences', 'linguists', 'varies', 'technologies', 'clues', 'English-speakers', 'inhabitants', 'factors', 'speaks', 'signs', 'constructions', 'stops', 'invasions', 'obstruents', 'listeners', 'marquees', 'codas', 'dennes', 'functions', 'courtrooms', 'documents', 'authors', 'films', 'names', 'symbols', 'liquids', 'endings', 'becomes', 'landscapes', 'birds', 'sibilants', 'links', 'applies', 'decades', 'men', 'oceans', 'suffixes', 'letters', 'nobles', 'territories', 'reasons', 'marks', 'sources', 'Dialectologists', 'cases', 'logistics', 'parents', 'entities', 'humanities', 'units', 'specialists', 'stresses', 'origins', 'grammarians', 'generalisations', 'Anglophones', 'hand/hands', 'details', 'schools', 'means', 'holes', 'coasts', 'professions', 'patterns', 'mountains', 'places', 'descendants', 'resources', 'invaders', 'ideas', 'nouns', 'laws', 'Dialects', 'islands', 'subdialects', 'inscriptions', 'replacements', 'sounds', 'lives', 'influences', 'determiners', 'tenses', 'arguments', 'publications', 'phones', 'politics', 'domains', 'workplaces', 'alternatives', 'affricates', 'communities', 'Locals', 'Estimates', 'immigrants', 'years', 'analyses', 'regions', 'concerns', 'onsets', 'statements', 'scholars', 'points', 'provinces', 'commonalities', 'consonants', 'monophthongs', 'modifiers', 'accents', 'shifts', 'combinations', 'pupils', 'accounts', 'complications', 'feet', 'learners', 'fricatives', 'mathematics', 'vocabularies', 'women', 'policies', 'leaders', 'developments', 'difficulties', 'grounds', 'peoples', 'allophones', 'distinguishes', 'dictionaries', 'proposals', 'interjections', 'affinities', 'neighbourhoods', 'cats', 'Readers', 'Words', 'consequences', 'centuries', 'features', 'shows', 'rules', 'knives', 'Foxes', '/p/', 'phrases', 'strategies', '/æ', 'pronunciations', 'categories', 'yourself/yourselves', 'cars', 'distinctions', 'sets', 'regularities', 'verbs', '-s', 'Accents', 'people', 'auxiliaries', 'Onsets', 'plosives', 'trousers', 'relatives', 'Filipinos', 'positions', 'areas', 'dentals', 'conjunctions', 'utterances', 'others', 'wh-questions', 'relations', 'effects', 'roots', 'adjectives', 'scripts', 'speakers', 'reforms', 'collections', 'unifies', 'translations', 'meanings', 'readers', 'states', 'persons', 'Vowels', 'complements', 'data', 'standards', 'respondents', 'sciences', 'Isles', 'grammars', 'studies', 'clusters', 'inflections', 'girls', 'colonies', 'adverbs', 'processes', 'members', 'quantifiers', 'Questions', 'runes', 'numbers', 'organisations', 'aligns', 'thanks', 'uses', 'fanks', 'pairs', 'concepts', 'vowels', 'loaves', 'opportunities', 'foreigners', 'norms', 'passives', 'plurals', 'circles', 'inanimates', 'Quantifiers', 'markers', 'words', 'ones', 'phonetics', 'exists', 'interrogatives', 'constituents', 'characteristics', 'subjects', 'registers', 'periods', 'contacts', 'Clusters', 'parts', 'elites', 'works', 'coordinators', 'adopts', 'spellings', 'dogs', 'Tobago', 'Foxis', 'Revolutionary', 'Auxiliary', 'Bibliography', 'Noah', 'United', 'Midland', '/dʒ/', 'Egypt', 'NP', 'Southeast', 'Topic', 'Southern', 'Vocabulary', '/ou/', 'Influence', 'Pronouns', 'B', 'ˈfɚðɚ', 'As', '§', 'Afro-Saxon', 'Anglic', '/ər/', 'Jamaican', 'Cockney', 'Liverpool', 'Use', 'Late', 'Norman', 'IPA', 'Determiners', '-ed', 'Word', 'Spread', 'Archive', 'English', 'General', 'Trinidad', 'Atlantic', 'Commonwealth', 'Thus', 'ASEAN', 'Manchester', 'D', 'Jane', 'America', 'Do', 'ɔ/', 'Newcastle', '/d', 'Cooperation', 'Lennon', 'Braj', \"Po'er\", 'V.', 'Anglo-Saxon', 'Pennsylvania', 'Germanic', '/f/', 'BrE', 'German', 'Sound', 'R.', 'Anaphoric', 'Pluricentric', 'Hemisphere', 'Shakespeare', 'Australia', 'Australian', 'Irish', 'T', 'Plural', 'Common', 'SVO', 'States—including', 'Upper', 'AAVE', 'Panama', '*', 'Danelaw', 'Geoffrey', 'Phonological', 'York', 'H', 'Court', 'Nonetheless', 'Canada', 'Northeastern', 'Midlands', '/strɛŋkθs/', 'Ænglisc', 'Historically', 'Belize', 'Potter', 'A', 'Shift', 'Varieties', 'x', 'GA', 'Dublin', 'US', 'Malta', 'Ulster', 'Cohesion', 'Nations', 'Norse-speaking', 'Overview', 'Webster', 'Economic', 'Ænglaland', 'Cayman', 'Prepositional', 'Germany', 'Committee', 'Mid', 'Irregular', 'Chinese', 'Passive', 'Bisayan', 'Greek-derived', '==', 'Hymn', '/ʔ/', 'Grammar', 'Dubbed', 'English-speaking', 'Version', 'Nigeria', 'Norse', 'vocabulary', 'California', 'O', 'Union', 'Jamaica', 'Eastern', 'NAE', 'North', 'Low', 'Classification', 'Verner', 'Linguist', 'Z', 'CCCCC', 'Otto', 'French', 'War', 'George', 'Manila', 'Edinburgh', 'County', 'Spoken', 'KON-trakt', 'Ireland', 'References', 'Samuel', 'NPs', 'Middle-class', 'African-American', 'Anthony', 'Kingdom', 'Y', 'z/', 'Canterbury', 'Alfred', 'President', 'Due', 'Certain', 'Frisian', 'Adverbs', 'BBC', 'Q', 'Huddleston', 'Commerce', 'Malaysia', 'England', 'King', 'III', 'Vowel', 'Wycliff', 'Oceania', 'PPs', 'Oxford', 'See', 'I/me', 'Bislish', 'East', 'Mandarin', 'Kentish', 'CCC', 'ˈbʌt.n̩', 'World', 'Pronunciation', ']', 'Caribbean', 'Third', 'Latinate', '/ə/', 'Jutes', 'Wexford', 'Henry', 'History', '/tʃ', 'Norsified', 'Finite', 'AmE', 'ˈfəːðə', 'Mass', 'James', 'Free', 'Syntax', 'Creole', 'Conquest', 'City', 'Thomas', '/t', 'OE', 'African', 'Seaspeak', 'U', 'Nicaragua', 'Scottish', 'Country', 'ɚ', 'Jutland', 'Lancashire', 'Geordie', 'Lenin', 'Chemical', 'CE', 'Dialects', '/r/', 'Seven', 'Years', 'Faroese', 'Island', 'LGBT', 'ɾ', 'ɡʱ', 'K', 'W', 'Philip', '/ˈfɜːðə/', 'V', 'Orthography', 'Wessex', 'Standard', '/ɜr/', 'British', 'Nouns', 'Phonetic', 'F', 'Yorkshire', 'University', 'Scots', 'Modern', 'C', 'Empire', 'Bantu', 'Abstracts', 'UK', '-ly', 'Olympic', 'ɔː/', 'India', '/ˈfɜrðər/', 'Great', 'Lindsey', 'Indirect', 'Johnson', 'West', 'Eurobarometer', 'ɖ', 'Saxons', 'Jespersen', 'Cities', 'Malory', 'Leeward', 'September', 'Beowulf', 'Conventionally', 'Pullum', 'All', 'Language', 'Viking', 'Sea', 'Discourse', 'Halle', 'Central', 'Adjectives', 'ISV', 'Romance', 'William', 'Stress', 'London', 'Many', 'Dutch', 'Run', 'Bible', 'Sweet', 'Spanish', 'NATO', 'Asia', 'Hiberno-English', 'Airspeak', 'PP', 'Barbados', 'N', '/ˈpɒʔə/', 'Indonesia', 'ˈhæpi', 'Scouse', 'Phrases', 'Tales', 'Just', 'R', 'Proto-Germanic', 'P', 'Northern', 'Thirteen', 'New', 'L', '/d/', '====', 'Republic', 'Khoe', 'X', 'Tagalog', 'Britain', '/s', 'Northumbrian', 'Brittonic', 'AD', '/x/', 'Received', 'Lower', 'Brazil', 'L2', 'Matthew', 'Foxes', 'Anglo-Saxons', 'Alphabet', 'Dummy', 'Conqueror', 'Crystal', 'Netherlands', '[', 'ˈpad.l̩', 'E', 'Jamestown', '-s', 'verbs', 'Roman', 'Revolution', 'Research', 'Survey', 'Versailles', 'Trade', 'Scotland', 'Regardless', 'bʷoːt', 'Lacoudre', 'Chancery', 'Dictionary', '/b', '/p', 'Renaissance', '/s/', '/ei/', 'Morte', 'S', 'Chomsky', 'RP', 'Chaucer', 'II', 'masculine', 'Saxon', 'Europe', 'Forth', 'V2', 'J', 'Angles', 'Frisia', 'Latin', 'Association', 'Islands', 'Estuary', 'APEC', 'Phrasal', 'China', 'External', 'Le', 'Vernacular', 'IO', 'Focus', 'Verb', 'Vowels', 'Fingallian', 'Swedish', 'ŋ/', 'Windward', 'Subordinate', 'Early', 'Isles', 'M', 'Noun', 'David', 'əˈbaʊt', 'ʈ', 'Phonology', 'Icelandic', 'Yola', 'Today', 'Digraphs', 'Kachru', 'Singapore', 'Verbs', 'Cædmon', 'Westminster', 'Greek', 'Africa', 'Lenis', 'International', 'American', 'Virginia', 'German/Low', 'Poland', '===', 'Middle', 'ɫaɪt', 'Esperanto', 'SAE', '–', 'Scandinavia', 'English—and', 'Know', 'Clause', 'Japan', 'Palatalization', 'Additionally', 'Foxas', 'Fortis', 'Saxony', 'Pakistan', 'ɫ', 'G', 'ɒ', 'Quebec', 'Object', 'Within', 'Grimm', 'Mancunian', 'ʍ', 'Gove', 'Gaelic', 'South', 'Tense', 'Caxton', 'Northumbria', 'Bargy', 'European', 'Zealand', 'Old', 'Treaty', 'EU', 'Nigerians', 'Philippines', 'Nations', 'Colonies', 'States', 'Indians', 'Consonants', 'Prepositions', 'Afrikaans', 'Americans', 'Phonotactics', 'Dialects', 'Africans']\n",
      "Verbs:  ['[', 'produce', 'start', 'refer', 'use', 'hang', 'do', 'rely', 'conceptualise', 'know', 'develop', 'influence', 'get', 'spell', 'help', 'spread', 'designate', 'give', 'vowel', 'matrix', 'describe', 'back', 'maintain', 'learn', 'pronounce', 'understand', 'be', 'save', 'go', 'guess', 's', 'leave', 'level', 'burn', 'create', 'have', 'function', 'write', 'lead', 'English', 'view', 'communicate', 'put', 'become', 'tie', 'follow', 'correspond', 'eat', 'appear', 'contrast', 'involve', 'reconcile', 'avoid', 'see', 'indicate', 'rise', 'distinguish', 'continue', 'Taglish', 'read', 'replace', 'show', 'c.', 'try', 'shut', 'run', 'take', 'happen', 'represent', 'lay', 'See', '*', 'express', 'reduce', 'marks', 'acquire', 'recede', 'disappear', 'gain', 'require', 'talk', 'derive', '/ə/', '===', 'say', 'Separate', 'agree', 'reject', 'hold', 'change', 'bird', 'open', 'k/', 'specify', 'add', 'modify', 'consider', 'ask', 'fall', 'stand', 'include', 'speak', 'allow', 'increase', 'establish', 'determine', 'bid', 'form', 'retain', 'locate', 'tend', 'inflect', 'keep', 'make', 'occur', 'win', 'mark', 'belong', 'find', 'brought', 'shift', 'noted', 'caused', 'developed', 'set', 'spread', 'sn̥oʊ̯', 'shared', 'settled', 'transformed', 'braced', 'were', 'changed', 'published', 'governed', 'spoke', 'regularised', 'facilitated', 'controlled', 'included', 'marked', 'isolated', 'woke', 'triggered', 'put', 'pronounced', 'noticed', 'adopted', 'light', 'composed', 'classified', 'distinguished', 'told', 'claimed', 'said', 'walked', 'contributed', 'had', 'occurred', 'gave', 'inflected', 'considered', 'launched', 'continued', 'began', 'unmarked', 'restricted', 'emerged', 'evolved', 'standardised', 'left', 'was', ']', 'mentioned', 'arrived', '===', 'helped', 'speak/spoke', 'referred', 'used', 'replaced', 'sent', 'called', 'introduced', 'obtained', 'ran', 'resisted', 'migrated', 'grouped', 'received', 'retained', '====', 'proceeded', 'borrowed', 'became', 'led', 'did', 'achieved', 'affected', 'preceded', 'sounded', 'voiced', 'simplified', 'acquired', 'transcribed', 'aspirated', 'estimated', 'attributed', '==', 'saw', 'reading', 'according', 'replacing', 'setting', 'conveying', 'neighbouring', 'learning', 'making', 'calling', 'leading', 'putting', 'defining', 'lying', 'serving', 'nestling', 'interfering', 'requiring', 'displacing', 'promoting', 'drawring', 'using', 'occurring', 'differing', 'understanding', 'doing', 'denoting', 'challenging', 'becoming', 'writing', 'including', 'existing', 'ending', 'comparing', 'belonging', 'combining', 'following', 'speaking', 'knowing', 'starting', 'producing', 'co-existing', 'identifying', 'Viking', 'preposing', 'emphasising', 'ranging', 'King', 'Having', 'subordinating', 'growing', 'appending', 'going', 'marking', 'influencing', 'contrasting', 'numbering', 'being', 'distinguishing', 'experiencing', 'expanding', 'borrowing', 'concluding', 'computing', 'providing', 'allocating', 'seafaring', 'surrounding', 'indicating', 'beginning', 'regarding', 'implementing', 'increasing', 'changing', 'coming', 'compiling', 'raising', 'pronouncing', 'establishing', 'postposing', 'depending', 'descending', 'fronting', 'having', 'working', 'expressing', 'raining', 'running', 'spreading', 'affecting', 'spelling', 'meaning', 'drawing', 'introducing', 'integrating', 'causing', 'describing', 'printing', 'negating', 'forming', 'differentiating', 'Making', 'specifying', 'associating', 'compounding', '-ing', 'varying', 'publishing', 'signalled', 'brought', 'acknowledged', 'dark', 'omitted', 'originated', 'born', 'caused', 'succeeded', 'Stressed', 'prohibited', 'paired', 'fronted', 'initiated', 'reserved', 'developed', 'defined', 'designed', 'connected', 'increased', 'followed', 'conducted', 'spread', 'realised', 'assumed', 'gone', 'shared', 'l', 'produced', 'learned', 'related', 'provoked', 'associated', 'spoken', 'indexed', 'proposed', 'prompted', 'published', 'dropped', 'culminated', 'allowed', 'been', 'indicated', 'required', 'seen', 'moved', 'dreamed', 'commonplace', 'diverged', 'Spoken', 'disputed', 'marked', 'compared', 'isolated', 'impeded', 'represented', 'shortened', 'derived', 'pronounced', 'regarded', 'exemplified', 'adopted', 'extrapolated', 'become', 'obscured', 'composed', 'stated', 'classified', 'influenced', 'made', 'distinguished', 'reincorporated', 'written', 'ruled', 'see', 'lost', 'argued', 'collapsed', 'criticised', 'strongest', 'proliferated', 'expressed', 'based', 'commissioned', 'opted', 'understood', 'remained', 'abandoned', 'translated', 'recognised', 'counted', 'taught', 'stigmatised', 'printed', 'inflected', 'considered', 'fuelled', 'given', 'run', 'broken', 'specified', 'fixed', 'formed', 'centred', 'restricted', 'emerged', 'unaspirated', 'evolved', 'standardised', 'corrected', 'kept', 'raised', 'shown', 'separated', 'described', 'hoped', 'pluralised', 'focused', 'opposed', 'diphthongised', 'used', 'arisen', 'placed', 'replaced', 'debated', 'called', 'introduced', 'done', 'built', 'stressed', 'grown', 'narrated', 'mastered', 'ceased', 'added', 'standard', 'taken', 'headed', 'stung', 'grouped', 'educated', 'Compared', 'assimilated', 'koineised', 'named', 'retained', 'spelled', 'compiled', 'constructed', 'treated', 'borrowed', 'led', 'descended', 'exposed', 'heard', 'characterised', 'distinct', 'achieved', 'affected', 'promoted', 'reduced', 'limited', 'differed', 'known', 'voiced', 'demoted', 'simplified', 'Received', 'established', 'entered', 'aspirated', 'estimated', 'populated', 'incorporated', 'maintained', 'divided', 'found', 'fused', '/æ', 'depend', '[', 'merge', 'produce', 'amidst', 'refer', 'use', 'eth', 'do', '/kn', 'know', 'are', 'elide', '/m', 'differ', 'conserve', 'mean', 'suggest', 'study', 'learn', 'understand', 'am', 'identifies', 'leave', 'have', 'function', 'adopt', 'grow', 'propose', 'become', 'follow', 'lack', 'persist', 'appear', 'Do', 'outnumber', 'wynn', 'need', 'ɑ/', 'recognise', 'eː', 'g', 'show', '/θ', 'take', 'exist', 'think', '/f', 'survive', 'b', 'require', 'dʒ', 'c', '===', 'vary', 'agree', 'change', 'trace', 'add', 'apply', 'identify', 'modify', 'consider', 'come', 'emphasise', 'serve', \"'m\", 'attend', 'stand', 'provide', 'include', 'speak', 'oː', '====', 'form', 'preserve', 'retain', 'Am', 'make', '==', 'occur', 'precede', '/r/', '[', 'consists', 'sets', 'contains', 'languages', 'pronouns', 'dialects', 'sounds', 'comes', 'makes', 'species', 'influences', 'remains', 'plays', 'speaks', 'is', 'stops', 'serves', '/ŋ/', 'rephrases', 'reflects', 'versus', 'stems', 'continues', 'comprises', 'loses', 'specifies', 'adjectives', 'demonstrates', 'endings', 'becomes', 'files', 'exemplifies', 'precedes', 'appears', 'refers', 'provides', 'phonemes', 'has', 'creates', 'represents', 'receives', 'estimates', 'allows', 'angsts', 'sees', 'explains', 'puts', 'reduces', 'pronounces', 'marks', 'affects', 'lists', 'uses', '===', 'says', 'traces', 'Traits', 'dominates', 'origins', 'prevails', 'tends', 'signal', 'borrows', 'leads', 'unites', 'peoples', 'girl', 'distinguishes', 'contrasts', 'means', 'stung', 'follows', 'emphasises', 'exists', 'corresponds', 'retains', 'changes', 'describes', 'occurs', 'includes', 'shows', 'gives', 'gets', '==', 'does', 'takes']\n",
      "Percentage of content words: 13.36%\n"
     ]
    }
   ],
   "source": [
    "# Define the POS tags for nouns and verbs\n",
    "noun_tags = ['NN', 'NNS', 'NNP', 'NNPS']\n",
    "verb_tags = ['VB', 'VBD', 'VBG', 'VBN', 'VBP', 'VBZ']\n",
    "\n",
    "nouns = get_words_for_pos_list(content, noun_tags)\n",
    "verbs = get_words_for_pos_list(content, verb_tags)\n",
    "\n",
    "print(\"Nouns: \", nouns)\n",
    "print(\"Verbs: \", verbs)\n",
    "\n",
    "content_words = len(nouns) + len(verbs)\n",
    "total_words = len(word_tokenize(content))\n",
    "percentage = (content_words / total_words) * 100\n",
    "print(f\"Percentage of content words: {percentage:.2f}%\")"
   ]
  },
  {
   "cell_type": "markdown",
   "metadata": {},
   "source": [
    "### 4)\n",
    "Print a table of four columns. The columns will be separated with the character \"|\". The head of the table will be:\n",
    "\n",
    "Original word | POS | Simple lemmatization | Lemmatization with POS\n",
    "\n",
    "that will compare the results of lemmatization (WordNetLemmatizer) without giving the part of speech and the lemmatization with the given part of speech for each word. The table must contain only words that give different results for the two lemmatizations (for example, the word \"running\" - without POS, the result will always be running, but with pos=\"v\" it is \"run\"). The table will contain the results for the first N sentences from the text (each row corresponding to a word). Try to print only distinct results inside the table (for example, if a word has two occurnces inside the text, and matches the requirments for appearing in the table, it should have only one corresponding row)."
   ]
  },
  {
   "cell_type": "code",
   "execution_count": 7,
   "metadata": {},
   "outputs": [
    {
     "name": "stdout",
     "output_type": "stream",
     "text": [
      "Original word        | POS   | Simple lemmatization | Lemmatization with POS\n",
      "estimated            | VBN   | estimated            | estimate\n",
      "emerged              | VBD   | emerged              | emerge\n",
      "migrated             | VBD   | migrated             | migrate\n",
      "spoken               | VBN   | spoken               | speak\n",
      "were                 | VBD   | were                 | be\n",
      "defined              | VBN   | defined              | define\n",
      "originated           | VBN   | originated           | originate\n",
      "being                | VBG   | being                | be\n",
      "is                   | VBZ   | is                   | be\n",
      "learned              | VBN   | learned              | learn\n",
      "called               | VBN   | called               | call\n",
      "succeeded            | VBN   | succeeded            | succeed\n",
      "was                  | VBD   | wa                   | be\n",
      "has                  | VBZ   | ha                   | have\n"
     ]
    }
   ],
   "source": [
    "lemmatizer = WordNetLemmatizer()\n",
    "\n",
    "# Function to get the wordnet POS tag\n",
    "def get_wordnet_pos(treebank_tag):\n",
    "    if treebank_tag.startswith('J'):\n",
    "        return wordnet.ADJ\n",
    "    elif treebank_tag.startswith('V'):\n",
    "        return wordnet.VERB\n",
    "    elif treebank_tag.startswith('N'):\n",
    "        return wordnet.NOUN\n",
    "    elif treebank_tag.startswith('R'):\n",
    "        return wordnet.ADV\n",
    "    else:\n",
    "        return None\n",
    "\n",
    "sentences = nltk.sent_tokenize(content)\n",
    "\n",
    "# Number of sentences to process\n",
    "N = 10 \n",
    "\n",
    "# Process the sentences\n",
    "results = []\n",
    "for sentence in sentences[:N]:\n",
    "    words = nltk.word_tokenize(sentence)\n",
    "    tagged_words = pos_tag(words)\n",
    "    \n",
    "    for word, tag in tagged_words:\n",
    "        wn_tag = get_wordnet_pos(tag)\n",
    "        if wn_tag:\n",
    "            lemma_with_pos = lemmatizer.lemmatize(word, pos=wn_tag)\n",
    "            lemma_without_pos = lemmatizer.lemmatize(word)\n",
    "            if lemma_with_pos != lemma_without_pos:\n",
    "                results.append((word, tag, lemma_without_pos, lemma_with_pos))\n",
    "\n",
    "# Remove duplicates\n",
    "results = list(set(results))\n",
    "\n",
    "print(\"Original word\".ljust(20) + \" | \" + \"POS\".ljust(5) + \" | \" + \"Simple lemmatization\".ljust(20) + \" | \" + \"Lemmatization with POS\")\n",
    "for row in results:\n",
    "    print(row[0].ljust(20) + \" | \" + row[1].ljust(5) + \" | \" + row[2].ljust(20) + \" | \" + row[3])\n"
   ]
  },
  {
   "cell_type": "markdown",
   "metadata": {},
   "source": [
    "### 5)\n",
    "Print a graphic showing the number of words for each part of speech. If there are too many different parts of speech, you can print only those with a higher number of corresponding words.\n"
   ]
  },
  {
   "cell_type": "code",
   "execution_count": 8,
   "metadata": {},
   "outputs": [
    {
     "data": {
      "image/png": "[encoded data removed]",
      "text/plain": [
       "<Figure size 640x480 with 1 Axes>"
      ]
     },
     "metadata": {},
     "output_type": "display_data"
    }
   ],
   "source": [
    "text = content\n",
    "threshold = 500\n",
    "\n",
    "tokens = word_tokenize(text)\n",
    "tagged_tokens = pos_tag(tokens)\n",
    "\n",
    "# Count the frequency of each POS\n",
    "pos_counts = Counter(tag for word, tag in tagged_tokens)\n",
    "\n",
    "# Filter POS with higher number of words\n",
    "filtered_pos_counts = {pos: count for pos, count in pos_counts.items() if count > threshold}\n",
    "\n",
    "plt.bar(filtered_pos_counts.keys(), filtered_pos_counts.values())\n",
    "plt.xlabel('Parts of Speech')\n",
    "plt.ylabel('Number of Words')\n",
    "plt.title('Word Count for Each Part of Speech')\n",
    "plt.show()\n"
   ]
  },
  {
   "cell_type": "markdown",
   "metadata": {},
   "source": [
    "### 6)\n",
    "Create your own grammar with different terminal symbols. Apply recursive descent parsing on a sentence with at least 5 different parts of speech and a tree of at least level 4."
   ]
  },
  {
   "cell_type": "code",
   "execution_count": 13,
   "metadata": {},
   "outputs": [
    {
     "name": "stdout",
     "output_type": "stream",
     "text": [
      "[('I', 'PRP'), ('am', 'VBP'), ('going', 'VBG'), ('to', 'TO'), ('play', 'VB'), ('some', 'DT'), ('new', 'JJ'), ('sport', 'NN'), ('this', 'DT'), ('week', 'NN')]\n"
     ]
    },
    {
     "name": "stderr",
     "output_type": "stream",
     "text": [
      "C:\\Users\\chimi\\AppData\\Local\\Temp\\ipykernel_12408\\1487396463.py:14: DeprecationWarning: The StanfordParser will be deprecated\n",
      "Please use \u001b[91mnltk.parse.corenlp.CoreNLPParser\u001b[0m instead.\n",
      "  parser = StanfordParser(model_path=parser_model_path, java_options='-mx2g')\n"
     ]
    },
    {
     "name": "stdout",
     "output_type": "stream",
     "text": [
      "    ROOT                                            \n",
      "     |                                               \n",
      "     S                                              \n",
      "  ___|_____                                          \n",
      " |         VP                                       \n",
      " |    _____|____                                     \n",
      " |   |          VP                                  \n",
      " |   |      ____|___                                 \n",
      " |   |     |        S                               \n",
      " |   |     |        |                                \n",
      " |   |     |        VP                              \n",
      " |   |     |     ___|_________                       \n",
      " |   |     |    |             VP                    \n",
      " |   |     |    |    _________|______________        \n",
      " NP  |     |    |   |         NP             NP     \n",
      " |   |     |    |   |     ____|____      ____|___    \n",
      "PRP VBP   VBG   TO  VB   DT   JJ   NN   DT       NN \n",
      " |   |     |    |   |    |    |    |    |        |   \n",
      " I   am  going  to play some new sport this     week\n",
      "\n"
     ]
    }
   ],
   "source": [
    "# Define paths to the model and jar files\n",
    "model_path = \"stanford-tagger-4.2.0/stanford-postagger-full-2020-11-17/models/english-bidirectional-distsim.tagger\"\n",
    "jar_tagger_path = \"stanford-tagger-4.2.0/stanford-postagger-full-2020-11-17/stanford-postagger.jar\"\n",
    "\n",
    "tagger = StanfordPOSTagger(model_path, jar_tagger_path)\n",
    "sentence = \"I am going to play some new sport this week\"\n",
    "tagged_sentence = tagger.tag(sentence.split(\" \"))\n",
    "print(tagged_sentence)\n",
    "\n",
    "# Define path to the parser model\n",
    "parser_model_path = \"stanford-parser-4.2.0/stanford-parser-full-2020-11-17/stanford-parser-4.2.0-models/edu/models/lexparser/englishPCFG.ser.gz\"\n",
    "\n",
    "\n",
    "parser = StanfordParser(model_path=parser_model_path, java_options='-mx2g')\n",
    "parsed_sentence = list(parser.raw_parse(sentence))\n",
    "\n",
    "# Print the parse tree\n",
    "for tree in parsed_sentence:\n",
    "    tree.pretty_print()\n",
    "\n",
    "# ##########################################################################################\n",
    "\n",
    "grammar = CFG.fromstring(\"\"\"\n",
    "  ROOT -> S\n",
    "  S -> NP VP\n",
    "  VP -> VBP VP | TO VP | VB NP NP\n",
    "  NP -> PRP | DT JJ NN | DT NN\n",
    "  VBP -> \"am\"\n",
    "  VBG -> \"going\"\n",
    "  TO -> \"to\"\n",
    "  VB -> \"play\"\n",
    "  PRP -> \"I\"\n",
    "  DT -> \"some\" | \"this\"\n",
    "  JJ -> \"new\"\n",
    "  NN -> \"sport\" | \"week\"\n",
    "\"\"\")\n",
    "\n",
    "tokens = sentence.split(\" \")\n",
    "\n",
    "# Recursive Descent Parsing\n",
    "rdp = RecursiveDescentParser(grammar)\n",
    "for tree in rdp.parse(tokens):\n",
    "    tree.pretty_print()"
   ]
  },
  {
   "cell_type": "markdown",
   "metadata": {},
   "source": [
    "### 7)\n",
    "Apply shift reduce parsing on the same sentence and check programatically if the two trees are equal. Find a sentence with equal trees and a sentence with different results (we consider the tree different even when it has no sollution for one of the parsers, but has for the other)."
   ]
  },
  {
   "cell_type": "code",
   "execution_count": 20,
   "metadata": {},
   "outputs": [
    {
     "name": "stdout",
     "output_type": "stream",
     "text": [
      "Are the trees equal? False\n",
      "Stanford Parser Tree:\n",
      "    ROOT                                            \n",
      "     |                                               \n",
      "     S                                              \n",
      "  ___|_____                                          \n",
      " |         VP                                       \n",
      " |    _____|____                                     \n",
      " |   |          VP                                  \n",
      " |   |      ____|___                                 \n",
      " |   |     |        S                               \n",
      " |   |     |        |                                \n",
      " |   |     |        VP                              \n",
      " |   |     |     ___|_________                       \n",
      " |   |     |    |             VP                    \n",
      " |   |     |    |    _________|______________        \n",
      " NP  |     |    |   |         NP             NP     \n",
      " |   |     |    |   |     ____|____      ____|___    \n",
      "PRP VBP   VBG   TO  VB   DT   JJ   NN   DT       NN \n",
      " |   |     |    |   |    |    |    |    |        |   \n",
      " I   am  going  to play some new sport this     week\n",
      "\n",
      "Shift-Reduce Parser Tree:\n",
      "Equal trees for sentence: I am going to play some sport this week False\n",
      "Stanford Parser Tree for equal sentence:\n",
      "    ROOT                                            \n",
      "     |                                               \n",
      "     S                                              \n",
      "  ___|_____                                          \n",
      " |         VP                                       \n",
      " |    _____|____                                     \n",
      " |   |          VP                                  \n",
      " |   |      ____|________                            \n",
      " |   |     |             S                          \n",
      " |   |     |             |                           \n",
      " |   |     |             VP                         \n",
      " |   |     |     ________|_________                  \n",
      " |   |     |    |                  VP               \n",
      " |   |     |    |    ______________|_________        \n",
      " NP  |     |    |   |         NP             NP     \n",
      " |   |     |    |   |     ____|____      ____|___    \n",
      "PRP VBP   VBG   TO  VB   DT        NN   DT       NN \n",
      " |   |     |    |   |    |         |    |        |   \n",
      " I   am  going  to play some     sport this     week\n",
      "\n",
      "Shift-Reduce Parser Tree for equal sentence:\n"
     ]
    }
   ],
   "source": [
    "# Define the grammar for shift-reduce parsing\n",
    "grammar = CFG.fromstring(\"\"\"\n",
    "    ROOT -> S\n",
    "    S -> NP VP\n",
    "    VP -> VBP VP | TO VP | VB NP NP\n",
    "    NP -> PRP | DT JJ NN | DT NN\n",
    "    VBP -> \"am\"\n",
    "    VBG -> \"going\"\n",
    "    TO -> \"to\"\n",
    "    VB -> \"play\"\n",
    "    PRP -> \"I\"\n",
    "    DT -> \"some\" | \"this\"\n",
    "    JJ -> \"new\"\n",
    "    NN -> \"sport\" | \"week\"\n",
    "\"\"\")\n",
    "\n",
    "\n",
    "sr_parser = ShiftReduceParser(grammar)\n",
    "\n",
    "sr_parsed_sentence = list(sr_parser.parse(sentence.split(\" \")))\n",
    "\n",
    "# Check if the trees are equal\n",
    "trees_equal = parsed_sentence == sr_parsed_sentence\n",
    "print(\"Are the trees equal?\", trees_equal)\n",
    "\n",
    "# Print the trees\n",
    "print(\"Stanford Parser Tree:\")\n",
    "for tree in parsed_sentence:\n",
    "    tree.pretty_print()\n",
    "\n",
    "print(\"Shift-Reduce Parser Tree:\")\n",
    "for tree in sr_parsed_sentence:\n",
    "    tree.pretty_print()\n",
    "\n",
    "# Find a sentence with equal trees\n",
    "equal_sentence = \"I am going to play some sport this week\"\n",
    "equal_parsed_sentence = list(parser.raw_parse(equal_sentence))\n",
    "equal_sr_parsed_sentence = list(sr_parser.parse(equal_sentence.split()))\n",
    "print(\"Equal trees for sentence:\", equal_sentence, equal_parsed_sentence == equal_sr_parsed_sentence)\n",
    "\n",
    "# Print the trees\n",
    "print(\"Stanford Parser Tree for equal sentence:\")\n",
    "for tree in equal_parsed_sentence:\n",
    "    tree.pretty_print()\n",
    "\n",
    "print(\"Shift-Reduce Parser Tree for equal sentence:\")\n",
    "for tree in equal_sr_parsed_sentence:\n",
    "    tree.pretty_print()"
   ]
  },
  {
   "cell_type": "code",
   "execution_count": 23,
   "metadata": {},
   "outputs": [
    {
     "name": "stdout",
     "output_type": "stream",
     "text": [
      "Warning: VP -> V NP PP will never be used\n",
      "[('dog',)]\n",
      "[('statue',)]\n",
      "[('park',)]\n",
      "[('dog',), ('statue',)]\n",
      "[('in',)]\n",
      "[('with',)]\n",
      "[('the',)]\n",
      "[('a',)]\n",
      "[(V, NP, PP)]\n",
      "[(V, NP)]\n",
      "[(VP, PP)]\n",
      "[(V, NP, PP), (V, NP)]\n",
      "[(Det, N)]\n",
      "[(NP, PP)]\n",
      "S [(NP, VP)]\n",
      "NP [(Det, N), (NP, PP)]\n",
      "VP [(VP, PP), (V, NP, PP), (V, NP)]\n",
      "PP [(P, NP)]\n",
      "NP [('I',)]\n",
      "Det [('the',), ('a',)]\n",
      "N [('man',)]\n",
      "V [('saw',)]\n",
      "P [('in',), ('with',)]\n",
      "N [('park',), ('dog',), ('statue',)]\n",
      "Det [('my',)]\n"
     ]
    }
   ],
   "source": [
    "nltk.app.srparser()"
   ]
  }
 ],
 "metadata": {
  "kernelspec": {
   "display_name": "nlp",
   "language": "python",
   "name": "python3"
  },
  "language_info": {
   "codemirror_mode": {
    "name": "ipython",
    "version": 3
   },
   "file_extension": ".py",
   "mimetype": "text/x-python",
   "name": "python",
   "nbconvert_exporter": "python",
   "pygments_lexer": "ipython3",
   "version": "3.11.9"
  }
 },
 "nbformat": 4,
 "nbformat_minor": 2
}
