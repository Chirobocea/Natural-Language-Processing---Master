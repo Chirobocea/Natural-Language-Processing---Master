{
 "cells": [
  {
   "cell_type": "code",
   "execution_count": 2,
   "metadata": {},
   "outputs": [
    {
     "name": "stderr",
     "output_type": "stream",
     "text": [
      "C:\\Users\\chimi\\AppData\\Local\\Temp\\ipykernel_1508\\4265155774.py:14: DeprecationWarning: The StanfordDependencyParser will be deprecated\n",
      "Please use \u001b[91mnltk.parse.corenlp.CoreNLPDependencyParser\u001b[0m instead.\n",
      "  dep_parser = StanfordDependencyParser(path_to_jar=my_path_to_jar, path_to_models_jar=my_path_to_models_jar)\n",
      "C:\\Users\\chimi\\AppData\\Local\\Temp\\ipykernel_1508\\4265155774.py:15: DeprecationWarning: The StanfordParser will be deprecated\n",
      "Please use \u001b[91mnltk.parse.corenlp.CoreNLPParser\u001b[0m instead.\n",
      "  const_parser = StanfordParser(model_path=eng_model_path, java_options='-mx2g')\n"
     ]
    }
   ],
   "source": [
    "import os\n",
    "os.environ['STANFORD_PARSER'] = \"stanford-parser-4.2.0/stanford-parser-full-2020-11-17/stanford-parser.jar\"\n",
    "os.environ['STANFORD_MODELS'] = \"stanford-parser-4.2.0/stanford-parser-full-2020-11-17/stanford-parser-4.2.0-models.jar\"\n",
    "\n",
    "from nltk.parse.stanford import StanfordDependencyParser, StanfordParser\n",
    "from nltk.tokenize import sent_tokenize\n",
    "\n",
    "\n",
    "stanford_parser_dir = 'stanford-parser-4.2.0/stanford-parser-full-2020-11-17'\n",
    "eng_model_path = stanford_parser_dir + \"/stanford-parser-4.2.0-models/edu/models/lexparser/englishPCFG.ser.gz\"\n",
    "my_path_to_models_jar = stanford_parser_dir + \"/stanford-parser-4.2.0-models.jar\"\n",
    "my_path_to_jar = stanford_parser_dir + \"/stanford-parser.jar\"\n",
    "\n",
    "dep_parser = StanfordDependencyParser(path_to_jar=my_path_to_jar, path_to_models_jar=my_path_to_models_jar)\n",
    "const_parser = StanfordParser(model_path=eng_model_path, java_options='-mx2g')\n",
    "\n",
    "filename = 'sentences.txt'\n",
    "\n",
    "# Create a file with some example sentences if it doesn't exist\n",
    "if not os.path.isfile(filename):\n",
    "\n",
    "    lines = ['The sun is shining brightly in the clear blue sky.',\n",
    "            'I enjoy reading books and exploring new ideas.',\n",
    "            'She walked along the beach, feeling the sand between her toes.',\n",
    "            'The cat lazily stretched out on the warm laptop.',\n",
    "            'We gathered around the campfire, sharing stories about Dracula.',\n",
    "            'Let me know if you want something from the store.']\n",
    "\n",
    "    with open(filename, 'w') as f:\n",
    "        for line in lines:\n",
    "            f.write(line + '\\n')\n",
    "\n",
    "with open(filename, 'r') as f:\n",
    "    text = f.read()\n",
    "    \n",
    "sentences = sent_tokenize(text)\n",
    "\n",
    "# Parse the sentences and write the results to the output file\n",
    "with open('parsed_sentences.txt', 'w') as f:\n",
    "    for i, sentence in enumerate(sentences, start=1):\n",
    "        f.write(f\"Sentence - number {i}\\n\")\n",
    "        f.write(f\"{sentence}\\n\")\n",
    "\n",
    "        # Constituency parsing\n",
    "        const_tree = list(const_parser.raw_parse(sentence))[0]\n",
    "        f.write(f\"{const_tree}\\n\")\n",
    "\n",
    "        # Dependency parsing\n",
    "        dep_tree = list(dep_parser.raw_parse(sentence))[0]\n",
    "        f.write(f\"{dep_tree}\\n\")\n",
    "\n",
    "        f.write(\"---------------------------------------------\\n\")"
   ]
  }
 ],
 "metadata": {
  "kernelspec": {
   "display_name": "nlp",
   "language": "python",
   "name": "python3"
  },
  "language_info": {
   "codemirror_mode": {
    "name": "ipython",
    "version": 3
   },
   "file_extension": ".py",
   "mimetype": "text/x-python",
   "name": "python",
   "nbconvert_exporter": "python",
   "pygments_lexer": "ipython3",
   "version": "3.11.9"
  }
 },
 "nbformat": 4,
 "nbformat_minor": 2
}
